{
 "cells": [
  {
   "cell_type": "code",
   "execution_count": 1,
   "id": "9afc6c9f",
   "metadata": {},
   "outputs": [],
   "source": [
    "import sys\n",
    "import os\n",
    "import time\n",
    "from typing import List, Dict, Any, Optional\n",
    "\n",
    "# from src_old.query_refinement import QueryRefinementEngine, QueryContext\n",
    "# from sample_data import SampleDataGenerator\n",
    "from database_schema import Paper\n",
    "from rich.console import Console\n",
    "from rich.panel import Panel\n",
    "from rich.table import Table\n",
    "from vector_database import VectorDatabase, parse_academic_paper, extract_authors, process_content, extract_behaviors, extract_breeds, determine_study_type\n",
    "from database_schema import Paper, BehaviorCategories, CommonDogBreeds\n",
    "import re\n",
    "from datetime import datetime\n",
    "from collections import defaultdict\n",
    "import unicodedata\n",
    "from unidecode import unidecode\n",
    "import json\n",
    "from langchain.document_loaders import PyPDFLoader\n",
    "from pathlib import Path\n",
    "import nltk\n",
    "nltk.download('punkt', quiet=True)\n",
    "\n",
    "%load_ext autoreload\n",
    "%autoreload 2"
   ]
  },
  {
   "cell_type": "code",
   "execution_count": null,
   "id": "e953536f",
   "metadata": {},
   "outputs": [],
   "source": [
    "pdf_path = \"data_50_papers\\Albuquerque et al. 2021.pdf\"\n",
    "store = False\n",
    "\n",
    "pdf_path = Path(pdf_path)\n",
    "if not pdf_path.exists():\n",
    "    raise FileNotFoundError(f\"PDF file not found: {pdf_path}\")\n",
    "\n",
    "parent_dir = pdf_path.parent\n",
    "pdf_name = pdf_path.stem\n",
    "\n",
    "loader = PyPDFLoader(pdf_path)\n",
    "documents = loader.load()\n",
    "\n",
    "if not documents:\n",
    "    raise ValueError(f\"No content extracted from {pdf_path}\")\n",
    "\n",
    "metadata = documents[0].metadata\n",
    "num_pages = metadata.get('total_pages', len(documents))\n",
    "full_content = \"\\n\".join([doc.page_content for doc in documents])\n",
    "\n",
    "paper_id = Path(pdf_path).stem\n",
    "title = metadata.get('title', f\"Paper from {Path(pdf_path).name}\")\n",
    "authors = extract_authors(documents)  "
   ]
  },
  {
   "cell_type": "code",
   "execution_count": null,
   "id": "440721d8",
   "metadata": {},
   "outputs": [],
   "source": [
    "sections = process_content(full_content, num_pages)\n",
    "sections['title']"
   ]
  },
  {
   "cell_type": "code",
   "execution_count": null,
   "id": "44425b50",
   "metadata": {},
   "outputs": [],
   "source": [
    "if title is None or title == \"\":\n",
    "    title = sections['title'].strip()\n",
    "\n",
    "if store:\n",
    "    # Store as json\n",
    "    sections['title'] = title\n",
    "    sections['metadata'] = metadata\n",
    "\n",
    "    parent_dir_clean = parent_dir.with_name(parent_dir.name + \"_clean\")\n",
    "    parent_dir_clean.mkdir(exist_ok=True)\n",
    "    json_path = parent_dir_clean / pdf_name\n",
    "    with open(json_path, 'w', encoding='utf-8') as f:\n",
    "        json.dump(sections, f, ensure_ascii=False, indent=4)\n",
    "\n",
    "keywords = []\n",
    "if 'keywords' in metadata:\n",
    "    keywords = [kw.strip() for kw in metadata['keywords'].split(',')]\n",
    "\n",
    "content_lower = full_content.lower()\n",
    "detected_breeds = extract_breeds(content_lower)\n",
    "detected_behaviors = extract_behaviors(content_lower)\n",
    "study_type = determine_study_type(content_lower, keywords)\n",
    "\n",
    "paper = Paper(\n",
    "    id=paper_id,\n",
    "    title=title,\n",
    "    authors=authors,\n",
    "    subject=metadata.get('subject', '').split(',')[0] if metadata.get('subject') else None,\n",
    "    keywords=keywords,\n",
    "    abstract=sections['abstract'],\n",
    "    body=sections['body'],\n",
    "    conclusion=sections['conclusion'],\n",
    "    references=sections['references'],\n",
    "    dog_breeds=detected_breeds,\n",
    "    behavior_categories=detected_behaviors,\n",
    "    study_type=study_type,\n",
    "    publication_date=metadata.get('creationdate', ''),  # Could extract from metadata if available\n",
    "    doi=metadata.get('doi'),\n",
    "    # url=metadata.get('subject', '').split(',')[1] if metadata.get('subject') else None,\n",
    "    metadata=metadata,\n",
    ")      "
   ]
  },
  {
   "cell_type": "code",
   "execution_count": null,
   "id": "d380fb14",
   "metadata": {},
   "outputs": [],
   "source": [
    "content = getattr(paper, 'abstract', \"\")\n",
    "content"
   ]
  },
  {
   "cell_type": "code",
   "execution_count": 2,
   "id": "37e6a83e",
   "metadata": {},
   "outputs": [],
   "source": [
    "vector_db = VectorDatabase(db_path=\"db_nomic\",\n",
    "                           collection_name=\"dog_behavior\",\n",
    "                           embedding_model=\"nomic-ai/nomic-embed-text-v1\",\n",
    "                           chunk_size=2)\n",
    "# vector_db.clear_collection()\n",
    "# vector_db.chunk_size = 2"
   ]
  },
  {
   "cell_type": "code",
   "execution_count": 4,
   "id": "7ff61cea",
   "metadata": {},
   "outputs": [
    {
     "data": {
      "text/plain": [
       "3995"
      ]
     },
     "execution_count": 4,
     "metadata": {},
     "output_type": "execute_result"
    }
   ],
   "source": [
    "# pdf_paths = list(Path(\"data_50_papers\").glob(\"*.pdf\"))\n",
    "# print(list(pdf_paths))\n",
    "\n",
    "# successful_papers = []\n",
    "# for pdf_path in pdf_paths:\n",
    "#     paper = parse_academic_paper(pdf_path, store=False)\n",
    "#     successful_papers.append(paper)\n",
    "\n",
    "success = vector_db.add_papers_from_directory(\"data_50_papers\")\n",
    "success\n",
    "# vector_db.add_paper_sentences(successful_papers[0])\n",
    "# vector_db.add_papers_sentences_batch(successful_papers[:3])"
   ]
  },
  {
   "cell_type": "code",
   "execution_count": 5,
   "id": "8811a91b",
   "metadata": {},
   "outputs": [
    {
     "data": {
      "text/plain": [
       "({'total_papers': 8904, 'behavior_categories': {}, 'study_types': {}}, 8904)"
      ]
     },
     "execution_count": 5,
     "metadata": {},
     "output_type": "execute_result"
    }
   ],
   "source": [
    "vector_db.get_collection_stats(), vector_db.collection.count()"
   ]
  },
  {
   "cell_type": "code",
   "execution_count": 10,
   "id": "d06b2593",
   "metadata": {},
   "outputs": [],
   "source": [
    "user_query = \"Why does my dog bark so much when I leave the house?\"\n",
    "retreived_papers = vector_db.search(user_query, top_k=30)\n",
    "# retreived_papers"
   ]
  },
  {
   "cell_type": "code",
   "execution_count": null,
   "id": "99c57bc5",
   "metadata": {},
   "outputs": [],
   "source": [
    "for paper_id, paper_dict in vector_db.paper_dicts.items():\n",
    "    print(f\"Paper ID: {paper_id}\")\n",
    "    print(f\"Number of chunks: {len(paper_dict['chunk_ids'])}\")"
   ]
  },
  {
   "cell_type": "code",
   "execution_count": null,
   "id": "588833fe",
   "metadata": {},
   "outputs": [],
   "source": [
    "vector_db.save_configs()"
   ]
  },
  {
   "cell_type": "code",
   "execution_count": null,
   "id": "f85528c9",
   "metadata": {},
   "outputs": [],
   "source": [
    "vector_db.get_paper_by_id('Albuquerque et al. 2021_abstract_0')"
   ]
  },
  {
   "cell_type": "code",
   "execution_count": null,
   "id": "e7d467f8",
   "metadata": {},
   "outputs": [],
   "source": [
    "vector_db.delete_paper('Albuquerque et al. 2021')"
   ]
  },
  {
   "cell_type": "code",
   "execution_count": null,
   "id": "34e72b4b",
   "metadata": {},
   "outputs": [],
   "source": [
    "vector_db.update_paper(paper)"
   ]
  },
  {
   "cell_type": "code",
   "execution_count": null,
   "id": "e6f875af",
   "metadata": {},
   "outputs": [],
   "source": [
    "vector_db.paper_dicts"
   ]
  },
  {
   "cell_type": "markdown",
   "id": "48033d48",
   "metadata": {},
   "source": [
    "# LLM"
   ]
  },
  {
   "cell_type": "code",
   "execution_count": null,
   "id": "3d0f32a7",
   "metadata": {},
   "outputs": [],
   "source": [
    "import ollama\n",
    "\n",
    "# Create client with explicit host\n",
    "client = ollama.Client(host='http://localhost:11434')\n",
    "try:\n",
    "    models = client.list()\n",
    "    print(\"Connected successfully!\")\n",
    "    print(models)\n",
    "except Exception as e:\n",
    "    print(f\"Still can't connect: {e}\")"
   ]
  },
  {
   "cell_type": "code",
   "execution_count": null,
   "id": "bda9f0e0",
   "metadata": {},
   "outputs": [],
   "source": [
    "model_name = \"llama3.2\"\n",
    "client.show(model_name)\n",
    "print(f\"LLM model {model_name} is available\")"
   ]
  },
  {
   "cell_type": "code",
   "execution_count": 18,
   "id": "080aedec",
   "metadata": {},
   "outputs": [],
   "source": [
    "# def _prepare_document_context(documents) -> str:\n",
    "#         \"\"\"Prepare a concise context string from retrieved documents.\"\"\"\n",
    "#         if not documents:\n",
    "#             return \"No documents retrieved.\"\n",
    "            \n",
    "#         # First we group the documents by their source paper\n",
    "#         papers = {}\n",
    "#         for doc in documents:\n",
    "#             metadata = doc.get('metadata', {})\n",
    "#             paper_id = metadata.get('paper_id', 'unknown')\n",
    "#             if paper_id not in papers:\n",
    "#                 papers[paper_id] = {\n",
    "#                     'title': doc.get('title', 'Unknown Title'),\n",
    "#                     'authors': doc.get('authors', 'Unknown Authors'),\n",
    "#                     'content_chunks': []\n",
    "#                 }\n",
    "#             # papers[paper_id].append(doc)\n",
    "#             papers[paper_id]['content_chunks'].append({'chunk_idx': metadata.get('chunk_index', 10000), \n",
    "#                                                        'text': doc.get('document', '')})\n",
    "\n",
    "#         # Sort each list by chunk index\n",
    "#         for paper_idx, docs in papers.items():\n",
    "#             docs = sorted(docs['content_chunks'], key=lambda x: x['chunk_idx'])\n",
    "#             final_text = \"\"\n",
    "#             for i in range(len(docs)):\n",
    "#                 final_text += docs[i]['text']\n",
    "#                 final_text += \"[...]\" if i != len(docs) or docs[i+1]['chunk_idx'] != docs[i]['chunk_idx'] else \"\"\n",
    "#                 final_text += \"\\n\"\n",
    "#             papers[paper_idx]['content_chunks'] = final_text.strip()\n",
    "        \n",
    "#         # concatenate the text from all documents\n",
    "#         context_parts = []\n",
    "#         for paper_id, paper_info in papers.items():\n",
    "#             context_parts.append(f\"**Paper: {paper_info['title']}**\\n{paper_info['content_chunks']}\\n\")\n",
    "        \n",
    "#         return '\\n'.join(context_parts).strip()"
   ]
  },
  {
   "cell_type": "code",
   "execution_count": 19,
   "id": "7608cd5e",
   "metadata": {},
   "outputs": [],
   "source": [
    "# print(_prepare_document_context(retreived_papers))"
   ]
  },
  {
   "cell_type": "code",
   "execution_count": null,
   "id": "ffae1cc5",
   "metadata": {},
   "outputs": [],
   "source": [
    "# def _create_question_prompt(user_query: str, doc_context: str) -> str:\n",
    "#     \"\"\"Create prompt for analyzing query and extracting filters.\"\"\"\n",
    "#     return f\"\"\"# Dog Behavior Research Query Analysis\n",
    "\n",
    "# ## Your Role\n",
    "# You are an expert in dog behavior research with deep knowledge of academic literature analysis. Your task is to analyze a user's research question and relevant document excerpts to generate precise clarifying questions.\n",
    "\n",
    "# **IMPORTANT: The questions you generate will be presented directly to the user to help refine their search. Make them user-friendly and easy to understand.**\n",
    "\n",
    "# ## Input Data\n",
    "# **User Query:** \"{user_query}\"\n",
    "\n",
    "# **Retrieved Research Context:**\n",
    "# ```\n",
    "# {doc_context}\n",
    "# ```\n",
    "\n",
    "# ## Task Objective\n",
    "# Generate clarifying questions that will be asked back to the user to improve their search results. These questions should help narrow down their research focus based on what you see in the retrieved documents.\n",
    "\n",
    "# ## Question Generation Rules\n",
    "# - Ask ONLY if clarification would significantly narrow search results\n",
    "# - Base questions on patterns you see in the retrieved documents\n",
    "# - Maximum 5 questions, prioritize most impactful\n",
    "# - Use simple, direct language that a researcher would understand\n",
    "# - If query is already specific enough, ask no questions\n",
    "# - Make questions answerable in 1-2 words or a short phrase\n",
    "# - Frame questions as if speaking directly to the user\n",
    "\n",
    "# ## Examples of Good Questions:\n",
    "# - \"Which specific age group are you focusing on?\" (with options: puppy, adult, senior)\n",
    "# - \"Are you interested in a particular breed type?\" (with options: working dogs, toy breeds, etc.)\n",
    "# - \"What research methodology do you prefer?\" (with options: experimental, observational, review)\n",
    "\n",
    "# ## Required Output Format\n",
    "# Respond with a JSON array where each question will be presented to the user:\n",
    "\n",
    "# [\n",
    "#     {{\n",
    "#         \"question\": \"Which age group are you most interested in?\",\n",
    "#         \"options\": [\"puppies (0-1 year)\", \"adults (1-7 years)\", \"seniors (7+ years)\", \"all ages\"],\n",
    "#         \"priority\": 1,\n",
    "#         \"reasoning\": \"Age significantly affects facial recognition behavior in dogs\"\n",
    "#     }}\n",
    "# ]\n",
    "\n",
    "# If no clarifying questions are needed, return an empty array: []\n",
    "\n",
    "# Generate user-facing questions now:\"\"\""
   ]
  },
  {
   "cell_type": "code",
   "execution_count": null,
   "id": "22ec3f34",
   "metadata": {},
   "outputs": [],
   "source": [
    "# doc_context = _prepare_document_context(retreived_papers)\n",
    "# print(doc_context)"
   ]
  },
  {
   "cell_type": "code",
   "execution_count": null,
   "id": "7a26db8a",
   "metadata": {},
   "outputs": [],
   "source": [
    "# analysis_prompt = _create_question_prompt(user_query, doc_context)\n",
    "# print(analysis_prompt)"
   ]
  },
  {
   "cell_type": "code",
   "execution_count": null,
   "id": "62723971",
   "metadata": {},
   "outputs": [],
   "source": [
    "# response = client.chat(\n",
    "#     model=model_name,\n",
    "#     messages=[{\"role\": \"user\", \"content\": analysis_prompt}]\n",
    "# )\n",
    "# print(response['message']['content'])"
   ]
  },
  {
   "cell_type": "code",
   "execution_count": null,
   "id": "96417015",
   "metadata": {},
   "outputs": [],
   "source": [
    "# from pydantic import BaseModel\n",
    "# class DynamicQuestion(BaseModel):\n",
    "#     \"\"\"A targeted question generated by LLM to gather missing information.\"\"\"\n",
    "#     question: str\n",
    "#     # filter_type: str  # behavior, breed, age, study_type, methodology, sample_size\n",
    "#     options: List[str] = []\n",
    "#     priority: int = 1  # 1 = high, 2 = medium, 3 = low\n",
    "#     reasoning: str = \"\"  # Why this question is important\n",
    "\n",
    "# def generate_targeted_questions(user_query: str, retrieved_documents: List[Dict[str, Any]]) -> List[Dict[str, str]]:\n",
    "#     \"\"\"\n",
    "#     Analyze user query along with retrieved documents to extract relevant filtering questions.\n",
    "    \n",
    "#     Args:\n",
    "#         user_query: The original user query\n",
    "#         retrieved_documents: List of documents retrieved from initial search\n",
    "        \n",
    "#     Returns:\n",
    "#         List of prioritized questions to ask the user\n",
    "#     \"\"\"\n",
    "#     doc_context = _prepare_document_context(retrieved_documents)\n",
    "#     analysis_prompt = _create_question_prompt(user_query, doc_context)\n",
    "    \n",
    "#     try:\n",
    "#         response = client.chat(\n",
    "#             model=model_name,\n",
    "#             messages=[{\"role\": \"user\", \"content\": analysis_prompt}]\n",
    "#         )\n",
    "#         response_text = _parse_response(response['message']['content'])\n",
    "#         data = json.loads(response_text)\n",
    "\n",
    "#         questions = []\n",
    "#         for item in data:\n",
    "#             questions.append(DynamicQuestion(\n",
    "#                 question=item.get('question', ''),\n",
    "#                 options=item.get('options', []),\n",
    "#                 priority=int(item.get('priority', 3)),\n",
    "#                 reasoning=item.get('reasoning', '')\n",
    "#             ))\n",
    "            \n",
    "#         return sorted(questions, key=lambda x: x.priority)\n",
    "        \n",
    "#     except Exception as e:\n",
    "#         print(f\"Error generating questions: {e}\")\n",
    "#         return []\n",
    "    \n",
    "\n",
    "# def _parse_response(response_text: str) -> List[DynamicQuestion]:\n",
    "#     \"\"\"Parse LLM response for filter extraction.\"\"\"\n",
    "#     try:\n",
    "#         # Clean response text\n",
    "#         response_text = response_text.strip()\n",
    "        \n",
    "#         # Remove reasoning process if present (between <think> and </think>)\n",
    "#         if '<think>' in response_text and '</think>' in response_text:\n",
    "#             start_idx = response_text.find('<think>')\n",
    "#             end_idx = response_text.find('</think>') + len('</think>')\n",
    "#             response_text = response_text[:start_idx] + response_text[end_idx:]\n",
    "#             response_text = response_text.strip()\n",
    "#             print(\"Removed reasoning process from LLM response\")\n",
    "        \n",
    "#         # Remove code block markers\n",
    "#         if response_text.startswith('```json'):\n",
    "#             response_text = response_text[7:-3]\n",
    "#         elif response_text.startswith('```'):\n",
    "#             response_text = response_text[3:-3]\n",
    "        \n",
    "#         return response_text.strip()\n",
    "        \n",
    "#     except Exception as e:\n",
    "#         print(f\"Error parsing LLM response: {e}\")\n",
    "#         return []"
   ]
  },
  {
   "cell_type": "code",
   "execution_count": null,
   "id": "9807fabb",
   "metadata": {},
   "outputs": [],
   "source": [
    "# generate_targeted_questions(user_query, retreived_papers)"
   ]
  },
  {
   "cell_type": "code",
   "execution_count": null,
   "id": "cf460f81",
   "metadata": {},
   "outputs": [],
   "source": [
    "# qa = {'Which age group are you most interested in?': ['puppies (0-1 year)', 'adults (1-7 years)'], 'What specific emotional expressions do you want to investigate?': ['positive emotions'], 'Are you looking for a specific breed or type of dogs?': ['herding breeds'], 'Do you have a specific research methodology in mind?': ['experimental studies']}"
   ]
  },
  {
   "cell_type": "code",
   "execution_count": null,
   "id": "df5842ea",
   "metadata": {},
   "outputs": [],
   "source": [
    "# qa_text = \"\\n\".join([f\"{q}: {', '.join(a)}\" for q, a in qa.items()])\n",
    "# print(qa_text)"
   ]
  },
  {
   "cell_type": "code",
   "execution_count": null,
   "id": "076a98f7",
   "metadata": {},
   "outputs": [],
   "source": [
    "# def _create_improvement_prompt(original_query: str, answers: Dict[str, str]) -> str:\n",
    "#     \"\"\"Create prompt for improving query with user answers.\"\"\"\n",
    "#     qa_text = \"\\n\".join([f\"{q}: {', '.join(a)}\" for q, a in answers.items()])\n",
    "    \n",
    "#     return f\"\"\"Improve this research query by incorporating the user's answers to clarifying questions.\n",
    "\n",
    "# Original Query: \"{original_query}\"\n",
    "\n",
    "# User's Clarifications:\n",
    "# {qa_text}\n",
    "\n",
    "# Create an improved, more specific query that incorporates the user's clarifications while maintaining the original intent. The improved query should be natural and search-friendly.\n",
    "\n",
    "# Respond with only the improved query text, no additional formatting or explanation.\"\"\""
   ]
  },
  {
   "cell_type": "code",
   "execution_count": null,
   "id": "ecc0984f",
   "metadata": {},
   "outputs": [],
   "source": [
    "# improvement_prompt = _create_improvement_prompt(user_query, qa)\n",
    "# print(improvement_prompt)"
   ]
  },
  {
   "cell_type": "code",
   "execution_count": null,
   "id": "0d6c7e2a",
   "metadata": {},
   "outputs": [],
   "source": [
    "# response = client.chat(\n",
    "#     model= model_name,\n",
    "#     messages=[{\"role\": \"user\", \"content\": improvement_prompt}]\n",
    "# )\n",
    "# improved_query = _parse_response(response['message']['content'])\n",
    "# print(improved_query)"
   ]
  },
  {
   "cell_type": "code",
   "execution_count": null,
   "id": "05526447",
   "metadata": {},
   "outputs": [],
   "source": [
    "# improved_query = \"In experimental studies on herding breeds, which part of the human face do puppies (0–1 year) and adult dogs (1–7 years) focus on the most when viewing faces expressing positive emotions?\"\n",
    "# vector_db.search(improved_query, n_results=5)"
   ]
  },
  {
   "cell_type": "code",
   "execution_count": null,
   "id": "1439f8a8",
   "metadata": {},
   "outputs": [],
   "source": [
    "# vector_db.search(\"How can I reduce separation anxiety-related barking in an 8-month-old Labrador who barks after the owner leaves, especially during the first hour, and shows signs of stress when the owner prepares to leave?\", n_results=10)"
   ]
  },
  {
   "cell_type": "markdown",
   "id": "64891fba",
   "metadata": {},
   "source": [
    "# Answer Assessment"
   ]
  },
  {
   "cell_type": "code",
   "execution_count": 29,
   "id": "18a24519",
   "metadata": {},
   "outputs": [],
   "source": [
    "from llm_service import LLMDynamicRAG\n",
    "# from interactive_llm_demo import LLMRAGDemo\n",
    "from vector_database import VectorDatabase\n",
    "%autoreload 2"
   ]
  },
  {
   "cell_type": "code",
   "execution_count": 38,
   "id": "c3baee90",
   "metadata": {},
   "outputs": [],
   "source": [
    "vector_db = VectorDatabase(db_path=\"db_nomic\",\n",
    "                           collection_name=\"dog_behavior\",\n",
    "                           embedding_model=\"nomic-ai/nomic-embed-text-v1\",\n",
    "                           chunk_size=2)\n",
    "\n",
    "rag = LLMDynamicRAG(\n",
    "    vector_db=vector_db,\n",
    "    query_analyzer_model=\"mistral:7b-instruct\",\n",
    "    answer_model=\"mistral:7b-instruct\",\n",
    ")"
   ]
  },
  {
   "cell_type": "markdown",
   "id": "3911f9f5",
   "metadata": {},
   "source": [
    "### Local Model"
   ]
  },
  {
   "cell_type": "code",
   "execution_count": 65,
   "id": "03cde502",
   "metadata": {},
   "outputs": [
    {
     "name": "stdout",
     "output_type": "stream",
     "text": [
      "1. **Direct Answer**: The papers you've shared provide valuable insights into the behavior and responses of dogs to various stimuli. It appears that dogs may express stress, fear, or anxiety in response to certain sounds, such as household noises or high-frequency pest repellants.\n",
      "\n",
      "2. **Research Evidence**: According to one study, common household noises might cause fear and anxiety in companion dogs (Stress-Related Behaviors in Companion Dogs Exposed to Common Household Noises, and Owners' Interpretations of Their Dogs' Behaviors). Another paper reports that existing research focuses on dramatic infrequent sounds like thunderstorms and fireworks, but many common household noises may also be causing fear and anxiety in resident dogs (Stress-Related Behaviors in Companion Dogs Exposed to Common Household Noises, and Owners' Interpretations of Their Dogs' Behaviors).\n",
      "\n",
      "3. **Practical Advice**: If your dog seems to be stressed or anxious due to household noises, it might help to minimize those noises when possible, or consider using white noise or calming music to mask them. Also, observing your dog's body language and responses can provide clues about their comfort level with specific sounds.\n",
      "\n",
      "4. **Important Considerations**: It is essential to remember that each dog is unique, and what may cause stress in one dog might not affect another. If you notice persistent or severe changes in your dog's behavior, it would be wise to consult a professional veterinarian for guidance.\n",
      "\n",
      "5. **Limitations**: The research on this topic suggests some common noises can cause fear and anxiety in dogs; however, more studies are needed to better understand the full range of sounds that might affect different dogs and the best strategies for managing these responses.\n"
     ]
    }
   ],
   "source": [
    "user_query = \"Why does my dog bark so much when I leave the house?\"\n",
    "results = await rag.generate_direct_answer(user_query, 30)\n",
    "print(results['answer'])"
   ]
  },
  {
   "cell_type": "code",
   "execution_count": 66,
   "id": "a0512311",
   "metadata": {},
   "outputs": [
    {
     "data": {
      "text/plain": [
       "[DynamicQuestion(question='Are you focusing on specific sounds produced by dogs (e.g., approach, withdrawal) or a particular context (e.g., play, defense, loneliness)?', options=['approach/withdrawal', 'specific context'], priority=1, reasoning='This will help narrow down the search results to relevant studies'),\n",
       " DynamicQuestion(question='What species are you primarily interested in, dogs or wolves?', options=['dogs', 'wolves'], priority=2, reasoning='Some research may focus on both species, but specific findings may be more relevant to one'),\n",
       " DynamicQuestion(question='Are you interested in the effects of common household noises on dogs?', options=['yes', 'no'], priority=3, reasoning='If so, this will help filter out studies focusing on dramatic infrequent sounds'),\n",
       " DynamicQuestion(question='What type of research are you looking for (e.g., experimental, observational, review)?', options=['experimental', 'observational', 'review'], priority=4, reasoning='This can help determine the nature and quality of the studies'),\n",
       " DynamicQuestion(question='Are you interested in studying emotional expression via facial expressions in dogs or their vocalizations?', options=['facial expressions', 'vocalizations'], priority=5, reasoning='This can help focus the search on studies that examine either vocalizations or facial expressions')]"
      ]
     },
     "execution_count": 66,
     "metadata": {},
     "output_type": "execute_result"
    }
   ],
   "source": [
    "improved_results = await rag.process_query(user_query, 30)\n",
    "improved_results['questions']"
   ]
  },
  {
   "cell_type": "code",
   "execution_count": null,
   "id": "b2bb6ae9",
   "metadata": {},
   "outputs": [
    {
     "ename": "NameError",
     "evalue": "name 'improved_results' is not defined",
     "output_type": "error",
     "traceback": [
      "\u001b[1;31m---------------------------------------------------------------------------\u001b[0m",
      "\u001b[1;31mNameError\u001b[0m                                 Traceback (most recent call last)",
      "Cell \u001b[1;32mIn[2], line 13\u001b[0m\n\u001b[0;32m     10\u001b[0m             chosen_answers[question[\u001b[38;5;124m'\u001b[39m\u001b[38;5;124mquestion\u001b[39m\u001b[38;5;124m'\u001b[39m]] \u001b[38;5;241m=\u001b[39m chosen_answer\n\u001b[0;32m     11\u001b[0m     \u001b[38;5;28;01mreturn\u001b[39;00m chosen_answers\n\u001b[1;32m---> 13\u001b[0m chosen_answers \u001b[38;5;241m=\u001b[39m choose_answers(\u001b[43mimproved_results\u001b[49m[\u001b[38;5;124m'\u001b[39m\u001b[38;5;124mquestions\u001b[39m\u001b[38;5;124m'\u001b[39m])\n\u001b[0;32m     14\u001b[0m \u001b[38;5;28mprint\u001b[39m(chosen_answers)\n",
      "\u001b[1;31mNameError\u001b[0m: name 'improved_results' is not defined"
     ]
    }
   ],
   "source": [
    "# use the questiions and options to make a dictionary of questions-answers\n",
    "# choose one or more answers randomly\n",
    "import random\n",
    "def choose_answers(questions: List[Dict[str, Any]]) -> Dict[str, str]:\n",
    "    \"\"\"Randomly choose answers from the provided questions.\"\"\"\n",
    "    chosen_answers = {}\n",
    "    for question in questions:\n",
    "        if 'options' in question and question['options']:\n",
    "            chosen_answer = random.choice(question['options'])\n",
    "            chosen_answers[question['question']] = chosen_answer\n",
    "    return chosen_answers\n",
    "\n",
    "chosen_answers = choose_answers(improved_results['questions'])\n",
    "print(chosen_answers)"
   ]
  },
  {
   "cell_type": "code",
   "execution_count": 68,
   "id": "d801bb2d",
   "metadata": {},
   "outputs": [
    {
     "name": "stdout",
     "output_type": "stream",
     "text": [
      "\"Why does my pet dog bark excessively when I leave the house, specifically in response to human presence?\"\n",
      "1. Direct Answer: It appears that excessive barking in dogs can be associated with a variety of emotions and behaviors, including excitement, boredom, anxiety, and pain, as suggested by the studies you provided.\n",
      "\n",
      "2. Research Evidence: Higher pitched barks combined with longer bark sequences are often linked to happiness and playfulness (Yin and McCowan, 2004; Pongracz et al., 2005, 2006), but excessive barking can indicate other emotions such as anxiety or pain.\n",
      "\n",
      "3. Practical Advice: To help reduce excessive barking, it's important to identify the underlying cause. This could involve providing more mental and physical stimulation, reducing boredom, managing anxiety-provoking situations, or addressing any health issues that might be causing discomfort.\n",
      "\n",
      "4. Important Considerations: If your dog's barking seems excessive or is accompanied by other distress signals (such as destructive behavior or self-harm), it would be a good idea to consult with a professional veterinarian or animal behaviorist. They can help identify potential medical causes and provide strategies for addressing behavioral issues.\n",
      "\n",
      "In the context of dogs with pre-existing separation-related problems, it's crucial to understand that different signs of separation anxiety may lead to different behaviors when the owner is away (Pongracz, Molnar, Miklosi, & Csanyi, 2005). If your dog has pre-existing vocalization issues or other signs of separation anxiety, addressing these problems can help reduce distress while you're away.\n",
      "\n",
      "Remember that every dog is unique, so what works for one may not work for another. It's important to observe and understand your dog's individual behaviors and needs to develop an effective plan to manage excessive barking.\n"
     ]
    }
   ],
   "source": [
    "final_answer = await rag.finalize_response(improved_results, answers)\n",
    "print(final_answer['improved_query'])\n",
    "print(final_answer['final_answer'])"
   ]
  },
  {
   "cell_type": "markdown",
   "id": "e7ed609d",
   "metadata": {},
   "source": [
    "### GPT Assessments"
   ]
  },
  {
   "cell_type": "code",
   "execution_count": 54,
   "id": "cd6b6e98",
   "metadata": {},
   "outputs": [
    {
     "name": "stdout",
     "output_type": "stream",
     "text": [
      "# Dog Behavior Expert Response\n",
      "\n",
      "## Your Mission\n",
      "You are a caring dog behavior expert helping a dog owner with their question. Provide a comprehensive, evidence-based answer that is both scientifically accurate and practically helpful.\n",
      "\n",
      "## User's Question\n",
      "**Original Question:** \"Why does my dog bark so much when I leave the house?\"\n",
      "None\n",
      "\n",
      "## Available Research Evidence\n",
      "**Paper: Where Do We Stand in the Domestic Dog (Canis familiaris) Positive-Emotion Assessment: A State-of-the-Art Review and Future Directions**\n",
      "Whining and yelping sounds were recorded when the owner returned after separation, suggesting increased positive arousal and motivation to approach the owner (Rehn et al., 2014). Another study found that early onset of whining after short separation from the owner was the most typical vocal response of dogs diagnosed with a separation-related disorder.[...]\n",
      "Should I whine or should I bark? Qualitative and quantitative differences between the vocalizations of dogs with and without separation-related symptoms.[...]\n",
      "Barking in family dogs: an ethological approach. Vet.[...]\n",
      "\n",
      "**Paper: Impact of Changes in Time Left Alone on Separation-Related Behaviour in UK Pet Dogs**\n",
      "Dogs can develop separation-related behaviours (SRBs), such as barking/howling, pacing, toileting or destroying household items when they are left without human company. These behaviours can be problematic for owners but are also welfare concerns for the dogs because they mean the dog is in a negative emotional state.[...]\n",
      "Introduction Separation-related behaviours (SRBs), sometimes referred to as separation-related problems, in companion dogs commonly include destruction, vocalization, and house soiling (e.g., urination, defecation, vomiting), as well as pacing, restlessness or owner searching, panting, hypervigilance, and/or extreme passivity [1-4]. When such behaviour occurs in the absence of, or lack of access to, human company (or in some cases, specific people), they can be considered separation-related behaviours [5].[...]\n",
      "Owners also noted dogs as being \"more excited\" in greeting them upon their return (e.g., \"Since I've been working at home, he started making more of a fuss on my return if I'm out for more than a short while\"). Some owners cited dogs as being clingier and following them around more at home than they did in February, while other dogs appeared more reluctant to perform leaving routines such as going to the kitchen or getting in their crate--common spaces to leave dogs while owners are out of the house (e.g., \"She used to come to the kitchen when we asked her to\").[...]\n",
      "\n",
      "**Paper: Changes in Dog Behaviour Associated with the COVID-19 Lockdown, Pre-Existing Separation-Related Problems and Alterations in Owner Behaviour**\n",
      "Sci.2023, 10, 195 15 of 24 Vocalising When Family Members Leave the Room Significant factors in the model based on all-dog households all related to pre-COVID separation-related behaviour signs and were vocalisation (p = 0.001), destruction to and/or around windows and doors ( p = 0.019), and chewing on crate bars if crated/gated (p = 0.042). Significant factors in the model based on single-dog households were also only related to pre-COVID separation-related behaviour signs: elimination (p = 0.024), destruction to and/or around windows and doors (p = 0.034), destruction of personal items (p = 0.025), and vocalisation (p = 0.038).[...]\n",
      "Barking When Family Members Leave the Room Significant factors in the model based on all-dog households were vocalisation (p < 0.001), destruction of personal items (p = 0.035), chewing on crate bars if crated/gated (p < 0.001), and change in safe space (p = 0.006). The significant factors in the model based on single-dog households were vocalisation (p = 0.009), destruction of personal items (p = 0.007), change in time alone (p = 0.041), change in safe space provision (p = 0.049), and age category (p = 0.016).[...]\n",
      "In general, dogs with pre-existing signs of separation-related problems were more likely to express behavioural issues and to have more issues than dogs without pre-existing problems (Table 4). In this regard, pre-existing vocalisation seemed to be particularly important as it was associated with all four of the behaviours associated with separation (leaving a room) during lockdown as well as shadowing the owner around the home and pressing body against family members for the all-dogs sample.[...]\n",
      "Different signs of separationrelated problems predispose dogs to the development of different potential issues when the owner is at home, and so it is important to understand the specific functional role of the individual signs. Separation-related vocalisation, chewing to escape confinement, and self-injury seem to particularly increase the risk of other signs of distress related to owner activity that might lead them to be out of the sight of the dog, such as barking when left alone, seeking attention from the owner by pressing their body against them or shadowing them, and stretching or chewing on themselves.[...]\n",
      "\n",
      "**Paper: Communication in Dogs**\n",
      "Here, we provide an overview of dogs' most common vocalizations, focusing on their functional-contextual features, both in intraspecific and heterospecific communication. Among the different vocal signals, the bark is certainly the most typical vocalization of dogs.[...]\n",
      "Contrary to previous beliefs, which claimed that barks are a byproduct of domestication lacking any functional value, recent studies demonstrated the context-related acoustical features of barks [60,66,67], suggesting that they are means of communication in dogs. Barks are short, explosive, and repetitive signals, with a highly variable acoustic structure (dominant frequency range between 160 and 2630 Hz), differing between breeds and even between individuals [60,66].[...]\n",
      "Dog breeds show a different use of barks in their vocal communication. Wolf-related breeds, for example, Shar-pei, Chow-Chow or Basenji, have a very rare propensity to bark, whereas other breeds present a specific type of barking, such as hunting dogs [59].[...]\n",
      "Barks carry various information about the signaler's physical characteristics, familiarity, and inner state [62,67,68], allowing dogs to differentiate not only between barks produced by different individuals in the same context [68], but also between the different contexts in which they are produced [67]. Recent studies report, indeed, that the barks acoustic features vary predictably according to the context; dogs emit longer and lower frequency barks when a stranger approaches them, while high pitched barks are mainly produced in isolation situations [63,66].[...]\n",
      "Dogs distinguish between the different acoustic structure of barks and react accordingly to its content and the familiarity of the signaler, staying closer to the gate of their house in response to an unfamiliar dog barking at a stranger and remaining inside the house during the barks of a lonely familiar dog [67]. These findings demonstrate that barks have a functional role in intra-specific communication.[...]\n",
      "\n",
      "**Paper: Separation-related behavior of dogs shows association with their reactions to everyday situations that may elicit frustration or fear**\n",
      "Dogs can react to the absence of their owner due to different inner states such as fear, panic or frustration. We hypothesized that dogs that are prone to frustration or fearfulness in other contexts would show a different behavioral response to separation from the owner.[...]\n",
      "According to this, separation triggers frustration that on one hand elevates arousal, resulting in excessive barking and increased explorative behaviors, which in turn may become disorganized, resulting in the destruction of objects25. Meanwhile, frustration and the individual features of the dog such as prior experiences, trigger fear that causes other signs of separation stress such as salivation, whining or escape attempts.[...]\n",
      "unpredictable responses) during his/her interactions with the dog could cause a reduced frustration threshold in the dog as we found that in a separation test, dogs that barked frequently but did not whine, had the most lenient owners12. In another study we found that cooperative breeds, which work in close visual contact with their handler28, barked more frequently during separation than the independently working dog breeds29.[...]\n",
      "'Relaxed' dogs also show less escape attempts such as door scratching or rearing. Contrary to this, dogs that received higher scores in the 'Demanding' component of the questionnaire, can be characterized with frequent and early onset barking and they also more likely and sooner scratched the door.[...]\n",
      "This highlights the possibility that although dogs may experience a dynamic change in their inner state during a longer period of separation, their individual propensity for an almost immediate fear- or frustration-driven reaction can result in very different reactions to even a short interval of isolation. As we expected, all but one of the factors that emerged from the questionnaire were somehow associated with vocalizations.[...]\n",
      "Barking is a vocalization type that became abundant and acoustically versatile during the evolution of the dog27. It is known that it carries contextual and affective information to humans and it is emitted in several different contexts43,44.[...]\n",
      "It was found that the particular type of barks emitted in isolation ('left alone barks') is especially easy to recognize and it is mostly characterized by human listeners as being 'desperate' and 'fearful'44. Based on these findings, both vocalization types have a different role during interspecific communication between dogs and humans, thus during separation they are probably emitted with an adaptive outcome by potentially changing the owner's behavior.[...]\n",
      "Barking is a long-range vocalization type, thus in this case its function might be to capture the attention of the owner and it is provoked by the unpleasant frustrating situation39. The whining of dogs (being a short-range vocalization) might rather elicit caring behavior from the receivers once they reappear at the scene41.[...]\n",
      "\n",
      "**Paper: Developing Diagnostic Frameworks in Veterinary Behavioral Medicine: Disambiguating Separation Related Problems in Dogs**\n",
      "Dogs should currently presen t with at least one of the following behaviors when separated fro m their owner or left alone: depression/sadness, destructive ness, vocalization (whining, barking, or howling), or house soili ng in order to capture a broad definition of separation related proble ms for at least a month. In order to minimize the risk of bias from recall, owners were asked not to complete the survey if the dog had previously shown these signs but no longer did so, or if there had been a significant change in the household in the last month (e.g., family member left home, moved house) in order to eliminate transient problems.[...]\n",
      "\n",
      "**Paper: Stress-Related Behaviors in Companion Dogs Exposed to Common Household Noises, and Owners' Interpretations of Their Dogs' Behaviors**\n",
      "Stress-Related Behaviors in Companion Dogs Exposed to Common Household Noises, and Owners' Interpretations of Their Dogs' Behaviors[...]\n",
      "Exis ting research focuses on dramatic infrequent sounds (e.g., thunderstorms, firework s). Anecdotally, and based on reports of undesirable behaviors in response to noises in th e home, many common household noises may also be causing fear and anxiety in comp anion dogs.[...]\n",
      "Anecdotally [e.g., ( 22)], and based on reports of undesirable reactions to noises in the home [e.g., ( 23)], many of these noises may be causing fear and anxiety in the resident dogs. In this study, we define \"common\" household sounds as including both those that occur daily, and also other common, but non-daily, sounds that are heard in the home and confined to the space where a pet resides.[...]\n",
      "Tell ingly, the dog was relaxed and happy when away from the home, but resistant to returning home after walks. After much questio ning, it was discovered that the owners had installed a sonic (very high frequency) pest repellant device in the home a few months before ; upon turning off the device, the dog immediately began to relax , and returned to his normal behavior over the next few days.[...]\n",
      "\n",
      "**Paper: Domestication constrains the ability of dogs to convey emotions via facial expressions in comparison to their wolf ancestors**\n",
      "Our analysis of vocalisations found that dogs vocalise more often than wolves when socially interacting and reacting to 'emotive' stimuli, suggesting that dogs with limiting facial morphologies may compensate by using more vocalisations to convey their affective states. Certainly, domestic dogs are known to be very vocal in comparison to wolves and will bark for a range of reasons, such as play, defence, threat, pain and loneliness83,84.[...]\n",
      "\n",
      "**Paper: Hemispheric Specialization in Dogs for Processing Different Acoustic Stimuli Marcello Siniscalchi1*, Angelo Quaranta1, Lesley J. Rogers2 1 Department of Animal Production, University of Bari, Bari, Italy,2 Centre for Neuroscience and Animal Behaviour, University of New England, Armidale, Australia**\n",
      "In general, researchers have identified eleven or twelve calltypes produced by the different species of canids (most of these studies were focused on wild canids) and these have been subdivided into approach-eliciting sounds and withdrawal-elicitng sounds [22,23,24,25,26]. Yin and McCowan [25] have shown that dog barks are graded vocalizations that range from harsh, lowfrequency calls to harmonically rich, higher frequency calls, and that they can be divided into subtypes (disturbance, isolation, and play) based on context, even within individual dogs.[...]\n",
      "\n",
      "## Response Guidelines\n",
      "\n",
      "### Structure\n",
      "1. **Direct Answer**: Start with a clear, direct response to their question\n",
      "2. **Research Evidence**: Support your answer with findings from the papers\n",
      "3. **Practical Advice**: Provide actionable steps they can take\n",
      "4. **Important Considerations**: Include any caveats or when to seek professional help\n",
      "\n",
      "### Tone & Style\n",
      "- Be empathetic and understanding (they care about their dog!)\n",
      "- Use accessible language (avoid excessive jargon)\n",
      "- Be confident but acknowledge limitations\n",
      "- Include specific research findings when relevant\n",
      "\n",
      "### Content Requirements\n",
      "- Answer the original question directly\n",
      "- Reference specific studies when making claims\n",
      "- Provide practical, actionable advice\n",
      "- Mention when professional help might be needed\n",
      "- Be honest about research limitations\n",
      "\n",
      "## Important Notes\n",
      "- Only make claims supported by the provided research\n",
      "- If studies contradict each other, acknowledge this\n",
      "- Don't diagnose medical conditions\n",
      "- Suggest veterinary consultation for health concerns\n",
      "\n",
      "Generate your expert response now:\n"
     ]
    }
   ],
   "source": [
    "retrieved_documents = rag.vector_db.search(user_query, top_k=30)\n",
    "doc_context = rag.answer_generator._prepare_document_context(retrieved_documents)\n",
    "answer_prompt = rag.answer_generator._create_answer_prompt(\n",
    "    user_query, None, doc_context, None\n",
    ")\n",
    "print(answer_prompt)"
   ]
  },
  {
   "cell_type": "code",
   "execution_count": 56,
   "id": "ce5055a8",
   "metadata": {},
   "outputs": [
    {
     "name": "stdout",
     "output_type": "stream",
     "text": [
      "# Dog Behavior Research Query Analysis\n",
      "\n",
      "## Your Role\n",
      "You are an expert in dog behavior research with deep knowledge of academic literature analysis. Your task is to analyze a user's research question and relevant document excerpts to generate precise clarifying questions.\n",
      "\n",
      "**IMPORTANT: The questions you generate will be presented directly to the user to help refine their search. Make them user-friendly and easy to understand.**\n",
      "\n",
      "## Input Data\n",
      "**User Query:** \"Why does my dog bark so much when I leave the house?\"\n",
      "\n",
      "**Retrieved Research Context:**\n",
      "```\n",
      "**Paper: Where Do We Stand in the Domestic Dog (Canis familiaris) Positive-Emotion Assessment: A State-of-the-Art Review and Future Directions**\n",
      "Whining and yelping sounds were recorded when the owner returned after separation, suggesting increased positive arousal and motivation to approach the owner (Rehn et al., 2014). Another study found that early onset of whining after short separation from the owner was the most typical vocal response of dogs diagnosed with a separation-related disorder.[...]\n",
      "Should I whine or should I bark? Qualitative and quantitative differences between the vocalizations of dogs with and without separation-related symptoms.[...]\n",
      "Barking in family dogs: an ethological approach. Vet.[...]\n",
      "\n",
      "**Paper: Impact of Changes in Time Left Alone on Separation-Related Behaviour in UK Pet Dogs**\n",
      "Dogs can develop separation-related behaviours (SRBs), such as barking/howling, pacing, toileting or destroying household items when they are left without human company. These behaviours can be problematic for owners but are also welfare concerns for the dogs because they mean the dog is in a negative emotional state.[...]\n",
      "Introduction Separation-related behaviours (SRBs), sometimes referred to as separation-related problems, in companion dogs commonly include destruction, vocalization, and house soiling (e.g., urination, defecation, vomiting), as well as pacing, restlessness or owner searching, panting, hypervigilance, and/or extreme passivity [1-4]. When such behaviour occurs in the absence of, or lack of access to, human company (or in some cases, specific people), they can be considered separation-related behaviours [5].[...]\n",
      "Owners also noted dogs as being \"more excited\" in greeting them upon their return (e.g., \"Since I've been working at home, he started making more of a fuss on my return if I'm out for more than a short while\"). Some owners cited dogs as being clingier and following them around more at home than they did in February, while other dogs appeared more reluctant to perform leaving routines such as going to the kitchen or getting in their crate--common spaces to leave dogs while owners are out of the house (e.g., \"She used to come to the kitchen when we asked her to\").[...]\n",
      "\n",
      "**Paper: Changes in Dog Behaviour Associated with the COVID-19 Lockdown, Pre-Existing Separation-Related Problems and Alterations in Owner Behaviour**\n",
      "Sci.2023, 10, 195 15 of 24 Vocalising When Family Members Leave the Room Significant factors in the model based on all-dog households all related to pre-COVID separation-related behaviour signs and were vocalisation (p = 0.001), destruction to and/or around windows and doors ( p = 0.019), and chewing on crate bars if crated/gated (p = 0.042). Significant factors in the model based on single-dog households were also only related to pre-COVID separation-related behaviour signs: elimination (p = 0.024), destruction to and/or around windows and doors (p = 0.034), destruction of personal items (p = 0.025), and vocalisation (p = 0.038).[...]\n",
      "Barking When Family Members Leave the Room Significant factors in the model based on all-dog households were vocalisation (p < 0.001), destruction of personal items (p = 0.035), chewing on crate bars if crated/gated (p < 0.001), and change in safe space (p = 0.006). The significant factors in the model based on single-dog households were vocalisation (p = 0.009), destruction of personal items (p = 0.007), change in time alone (p = 0.041), change in safe space provision (p = 0.049), and age category (p = 0.016).[...]\n",
      "In general, dogs with pre-existing signs of separation-related problems were more likely to express behavioural issues and to have more issues than dogs without pre-existing problems (Table 4). In this regard, pre-existing vocalisation seemed to be particularly important as it was associated with all four of the behaviours associated with separation (leaving a room) during lockdown as well as shadowing the owner around the home and pressing body against family members for the all-dogs sample.[...]\n",
      "Different signs of separationrelated problems predispose dogs to the development of different potential issues when the owner is at home, and so it is important to understand the specific functional role of the individual signs. Separation-related vocalisation, chewing to escape confinement, and self-injury seem to particularly increase the risk of other signs of distress related to owner activity that might lead them to be out of the sight of the dog, such as barking when left alone, seeking attention from the owner by pressing their body against them or shadowing them, and stretching or chewing on themselves.[...]\n",
      "\n",
      "**Paper: Communication in Dogs**\n",
      "Here, we provide an overview of dogs' most common vocalizations, focusing on their functional-contextual features, both in intraspecific and heterospecific communication. Among the different vocal signals, the bark is certainly the most typical vocalization of dogs.[...]\n",
      "Contrary to previous beliefs, which claimed that barks are a byproduct of domestication lacking any functional value, recent studies demonstrated the context-related acoustical features of barks [60,66,67], suggesting that they are means of communication in dogs. Barks are short, explosive, and repetitive signals, with a highly variable acoustic structure (dominant frequency range between 160 and 2630 Hz), differing between breeds and even between individuals [60,66].[...]\n",
      "Dog breeds show a different use of barks in their vocal communication. Wolf-related breeds, for example, Shar-pei, Chow-Chow or Basenji, have a very rare propensity to bark, whereas other breeds present a specific type of barking, such as hunting dogs [59].[...]\n",
      "Barks carry various information about the signaler's physical characteristics, familiarity, and inner state [62,67,68], allowing dogs to differentiate not only between barks produced by different individuals in the same context [68], but also between the different contexts in which they are produced [67]. Recent studies report, indeed, that the barks acoustic features vary predictably according to the context; dogs emit longer and lower frequency barks when a stranger approaches them, while high pitched barks are mainly produced in isolation situations [63,66].[...]\n",
      "Dogs distinguish between the different acoustic structure of barks and react accordingly to its content and the familiarity of the signaler, staying closer to the gate of their house in response to an unfamiliar dog barking at a stranger and remaining inside the house during the barks of a lonely familiar dog [67]. These findings demonstrate that barks have a functional role in intra-specific communication.[...]\n",
      "\n",
      "**Paper: Separation-related behavior of dogs shows association with their reactions to everyday situations that may elicit frustration or fear**\n",
      "Dogs can react to the absence of their owner due to different inner states such as fear, panic or frustration. We hypothesized that dogs that are prone to frustration or fearfulness in other contexts would show a different behavioral response to separation from the owner.[...]\n",
      "According to this, separation triggers frustration that on one hand elevates arousal, resulting in excessive barking and increased explorative behaviors, which in turn may become disorganized, resulting in the destruction of objects25. Meanwhile, frustration and the individual features of the dog such as prior experiences, trigger fear that causes other signs of separation stress such as salivation, whining or escape attempts.[...]\n",
      "unpredictable responses) during his/her interactions with the dog could cause a reduced frustration threshold in the dog as we found that in a separation test, dogs that barked frequently but did not whine, had the most lenient owners12. In another study we found that cooperative breeds, which work in close visual contact with their handler28, barked more frequently during separation than the independently working dog breeds29.[...]\n",
      "'Relaxed' dogs also show less escape attempts such as door scratching or rearing. Contrary to this, dogs that received higher scores in the 'Demanding' component of the questionnaire, can be characterized with frequent and early onset barking and they also more likely and sooner scratched the door.[...]\n",
      "This highlights the possibility that although dogs may experience a dynamic change in their inner state during a longer period of separation, their individual propensity for an almost immediate fear- or frustration-driven reaction can result in very different reactions to even a short interval of isolation. As we expected, all but one of the factors that emerged from the questionnaire were somehow associated with vocalizations.[...]\n",
      "Barking is a vocalization type that became abundant and acoustically versatile during the evolution of the dog27. It is known that it carries contextual and affective information to humans and it is emitted in several different contexts43,44.[...]\n",
      "It was found that the particular type of barks emitted in isolation ('left alone barks') is especially easy to recognize and it is mostly characterized by human listeners as being 'desperate' and 'fearful'44. Based on these findings, both vocalization types have a different role during interspecific communication between dogs and humans, thus during separation they are probably emitted with an adaptive outcome by potentially changing the owner's behavior.[...]\n",
      "Barking is a long-range vocalization type, thus in this case its function might be to capture the attention of the owner and it is provoked by the unpleasant frustrating situation39. The whining of dogs (being a short-range vocalization) might rather elicit caring behavior from the receivers once they reappear at the scene41.[...]\n",
      "\n",
      "**Paper: Developing Diagnostic Frameworks in Veterinary Behavioral Medicine: Disambiguating Separation Related Problems in Dogs**\n",
      "Dogs should currently presen t with at least one of the following behaviors when separated fro m their owner or left alone: depression/sadness, destructive ness, vocalization (whining, barking, or howling), or house soili ng in order to capture a broad definition of separation related proble ms for at least a month. In order to minimize the risk of bias from recall, owners were asked not to complete the survey if the dog had previously shown these signs but no longer did so, or if there had been a significant change in the household in the last month (e.g., family member left home, moved house) in order to eliminate transient problems.[...]\n",
      "\n",
      "**Paper: Stress-Related Behaviors in Companion Dogs Exposed to Common Household Noises, and Owners' Interpretations of Their Dogs' Behaviors**\n",
      "Stress-Related Behaviors in Companion Dogs Exposed to Common Household Noises, and Owners' Interpretations of Their Dogs' Behaviors[...]\n",
      "Exis ting research focuses on dramatic infrequent sounds (e.g., thunderstorms, firework s). Anecdotally, and based on reports of undesirable behaviors in response to noises in th e home, many common household noises may also be causing fear and anxiety in comp anion dogs.[...]\n",
      "Anecdotally [e.g., ( 22)], and based on reports of undesirable reactions to noises in the home [e.g., ( 23)], many of these noises may be causing fear and anxiety in the resident dogs. In this study, we define \"common\" household sounds as including both those that occur daily, and also other common, but non-daily, sounds that are heard in the home and confined to the space where a pet resides.[...]\n",
      "Tell ingly, the dog was relaxed and happy when away from the home, but resistant to returning home after walks. After much questio ning, it was discovered that the owners had installed a sonic (very high frequency) pest repellant device in the home a few months before ; upon turning off the device, the dog immediately began to relax , and returned to his normal behavior over the next few days.[...]\n",
      "\n",
      "**Paper: Domestication constrains the ability of dogs to convey emotions via facial expressions in comparison to their wolf ancestors**\n",
      "Our analysis of vocalisations found that dogs vocalise more often than wolves when socially interacting and reacting to 'emotive' stimuli, suggesting that dogs with limiting facial morphologies may compensate by using more vocalisations to convey their affective states. Certainly, domestic dogs are known to be very vocal in comparison to wolves and will bark for a range of reasons, such as play, defence, threat, pain and loneliness83,84.[...]\n",
      "\n",
      "**Paper: Hemispheric Specialization in Dogs for Processing Different Acoustic Stimuli Marcello Siniscalchi1*, Angelo Quaranta1, Lesley J. Rogers2 1 Department of Animal Production, University of Bari, Bari, Italy,2 Centre for Neuroscience and Animal Behaviour, University of New England, Armidale, Australia**\n",
      "In general, researchers have identified eleven or twelve calltypes produced by the different species of canids (most of these studies were focused on wild canids) and these have been subdivided into approach-eliciting sounds and withdrawal-elicitng sounds [22,23,24,25,26]. Yin and McCowan [25] have shown that dog barks are graded vocalizations that range from harsh, lowfrequency calls to harmonically rich, higher frequency calls, and that they can be divided into subtypes (disturbance, isolation, and play) based on context, even within individual dogs.[...]\n",
      "```\n",
      "\n",
      "## Task Objective\n",
      "Generate clarifying questions that will be asked back to the user to improve their search results. These questions should help narrow down their research focus based on what you see in the retrieved documents.\n",
      "\n",
      "## Question Generation Rules\n",
      "- Ask ONLY if clarification would significantly narrow search results\n",
      "- Base questions on patterns you see in the retrieved documents\n",
      "- Maximum 5 questions, prioritize most impactful\n",
      "- Use simple, direct language that a researcher would understand\n",
      "- If query is already specific enough, ask no questions\n",
      "- Make questions answerable in 1-2 words or a short phrase\n",
      "- Frame questions as if speaking directly to the user\n",
      "\n",
      "## Examples of Good Questions:\n",
      "- \"Which specific age group are you focusing on?\" (with options: puppy, adult, senior)\n",
      "- \"Are you interested in a particular breed type?\" (with options: working dogs, toy breeds, etc.)\n",
      "- \"What research methodology do you prefer?\" (with options: experimental, observational, review)\n",
      "\n",
      "## Required Output Format\n",
      "Respond with a JSON array where each question is an object with the following structure:\n",
      "[\n",
      "    {\n",
      "        \"question\": \"Your question text here\",\n",
      "        \"options\": [\"option1\", \"option2\", \"option3\"],\n",
      "        \"priority\": 1,\n",
      "        \"reasoning\": \"Why this question is important for search accuracy\"\n",
      "    }\n",
      "]\n",
      "\n",
      "If no clarifying questions are needed, return an empty array: []\n",
      "\n",
      "Generate user-facing questions now:\n"
     ]
    }
   ],
   "source": [
    "doc_context = rag.query_analyzer._prepare_document_context(retrieved_documents)\n",
    "analysis_prompt = rag.query_analyzer._create_question_prompt(user_query, doc_context)\n",
    "print(analysis_prompt)"
   ]
  },
  {
   "cell_type": "code",
   "execution_count": 60,
   "id": "e340b2cb",
   "metadata": {},
   "outputs": [],
   "source": [
    "questions_answers = {\n",
    "  \"How long is your dog typically left alone when the barking occurs?\": [\"30 minutes to 2 hours\"],\n",
    "  \"Has your dog shown other signs besides barking when left alone?\": [\"Yes, destructive behavior\"],\n",
    "  \"Did this barking behavior start after a specific change in routine or household?\": [\"Yes, after a change\"],\n",
    "  \"Is your dog from a breed known for high vocal tendencies?\": [\"Yes\"],\n",
    "  \"Does your dog also bark when you leave the room, not just the house?\": [\"Sometimes\"]\n",
    "}"
   ]
  },
  {
   "cell_type": "code",
   "execution_count": 61,
   "id": "5630d2bf",
   "metadata": {},
   "outputs": [
    {
     "name": "stdout",
     "output_type": "stream",
     "text": [
      "Improve this research query by incorporating the user's answers to clarifying questions.\n",
      "\n",
      "Original Query: \"Why does my dog bark so much when I leave the house?\"\n",
      "\n",
      "User's Clarifications:\n",
      "How long is your dog typically left alone when the barking occurs?: 30 minutes to 2 hours\n",
      "Has your dog shown other signs besides barking when left alone?: Yes, destructive behavior\n",
      "Did this barking behavior start after a specific change in routine or household?: Yes, after a change\n",
      "Is your dog from a breed known for high vocal tendencies?: Yes\n",
      "Does your dog also bark when you leave the room, not just the house?: Sometimes\n",
      "\n",
      "Create an improved, more specific query that incorporates the user's clarifications while maintaining the original intent. The improved query should be natural and search-friendly.\n",
      "\n",
      "Respond with only the improved query text, no additional formatting or explanation.\n"
     ]
    }
   ],
   "source": [
    "improvement_prompt = rag.query_analyzer._create_improvement_prompt(user_query, questions_answers)\n",
    "print(improvement_prompt)"
   ]
  },
  {
   "cell_type": "code",
   "execution_count": 62,
   "id": "5d533ce4",
   "metadata": {},
   "outputs": [],
   "source": [
    "improved_query = \"Why does my dog, a vocal breed, bark excessively and show destructive behavior when left alone for 30 minutes to 2 hours, especially since this started after a recent routine change and sometimes happens even when I leave the room?\"\n",
    "retrieved_documents = rag.vector_db.search(improved_query, top_k=30)"
   ]
  },
  {
   "cell_type": "code",
   "execution_count": 64,
   "id": "11e87258",
   "metadata": {},
   "outputs": [
    {
     "name": "stdout",
     "output_type": "stream",
     "text": [
      "# Dog Behavior Expert Response\n",
      "\n",
      "## Your Mission\n",
      "You are a caring dog behavior expert helping a dog owner with their question. Provide a comprehensive, evidence-based answer that is both scientifically accurate and practically helpful.\n",
      "\n",
      "## User's Question\n",
      "**Original Question:** \"Why does my dog bark so much when I leave the house?\"\n",
      "**Refined Focus:** \"Why does my dog, a vocal breed, bark excessively and show destructive behavior when left alone for 30 minutes to 2 hours, especially since this started after a recent routine change and sometimes happens even when I leave the room?\"\n",
      "\n",
      "**Additional Context from User:**\n",
      "- Are you focusing on wild or domestic canids?: domestic canids\n",
      "- What specific behavior are you interested in regarding canid vocalizations?: approach-eliciting\n",
      "- Are you interested in specific calltypes produced by canids?: no\n",
      "- Are you interested in comparing dog vocalizations to those of wolves?: no\n",
      "- Are you interested in studying canid vocalizations in response to specific stimuli?: Yes, I want to study vocalizations in response to human presence\n",
      "\n",
      "## Available Research Evidence\n",
      "**Paper: Impact of Changes in Time Left Alone on Separation-Related Behaviour in UK Pet Dogs**\n",
      "Dogs can develop separation-related behaviours (SRBs), such as barking/howling, pacing, toileting or destroying household items when they are left without human company. These behaviours can be problematic for owners but are also welfare concerns for the dogs because they mean the dog is in a negative emotional state.[...]\n",
      "Risk of developing SRBs was found to be linked to the change in time left alone during the lockdown, with dogs whose time alone reduced the most being most at risk of developing new SRBs in October. Separation-related behaviours (SRBs), including but not limited to vocalisation, pacing, destruction and toileting, occur in the absence of human company.[...]\n",
      "Introduction Separation-related behaviours (SRBs), sometimes referred to as separation-related problems, in companion dogs commonly include destruction, vocalization, and house soiling (e.g., urination, defecation, vomiting), as well as pacing, restlessness or owner searching, panting, hypervigilance, and/or extreme passivity [1-4]. When such behaviour occurs in the absence of, or lack of access to, human company (or in some cases, specific people), they can be considered separation-related behaviours [5].[...]\n",
      "The options owners were able to choose from were: vocalising (barked/howled/pined/whined/cried); paced around, or turned in circles or chased his/her tail; chewed or destroyed non-food items other than toys; scratched/damaged around the door, skirting boards, windows or entrance to the house; scratched/damaged furniture; urinated and/or defecated inside the home; other behaviours (please specify). For owners who selected 'other behaviours (please specify)' a free text box was provided for them to describe what their dog did when about to be left alone, or when left alone.[...]\n",
      "\n",
      "**Paper: Changes in Dog Behaviour Associated with the COVID-19 Lockdown, Pre-Existing Separation-Related Problems and Alterations in Owner Behaviour**\n",
      "The most common behaviour problems reported to worsen were vocalisation (about a quarter of subjects) followed by over 15% increasing reactivity to loud or unexpected noises and over 10% reporting a worsening of social interactions with other dogs when out. Less than 5% reported a deterioration of social behaviour (increased aggressivity) towards family members.[...]\n",
      "Prevalence of different frequencies of 8 separation-related behaviours when left without human company for more than 1 h (potential signs of a separation-related behaviour problem) prior to the lockdown, in the sample of all-dog households, * \"Never\" responses for this item include dogs who are never crated. Behaviour Every Time Most of the Time About Half the Time Less Than Half the Time but Quite Frequently Rarely Never N % N % N % N % N % N % Vocalising when family members leave the room 53 4.8 53 4.8 40 3.6 70 6.3 353 31.9 537 48.6 Excessive drooling/salivating 6 0.5 7 0.6 4 0.4 9 0.8 110 9.9 970 87.7 Running around to/from windows 28 2.5 39 3.5 38 3.4 76 6.9 189 17.1 736 66.5 Destruction to and/or around windows and doors 3 0.3 6 0.5 6 0.5 27 2.4 78 7.1 986 89.2 Destruction of personal items such as couch, pillows, book, shoes, hats, etc.[...]\n",
      "Chi-squared test results revealed that dogs left alone for less than an hour were more likely to vocalise at least \"quite frequently\" when left. Dogs left alone for more than 3.5 h but fewer than 7 h were less likely to show destruction to and/or around windows and doors when left at least \"quite frequently\", whereas dogs left alone for more than 7 h were more likely to show this level and type of destructiveness.[...]\n",
      "Barking When Family Members Leave the Room Significant factors in the model based on all-dog households were vocalisation (p < 0.001), destruction of personal items (p = 0.035), chewing on crate bars if crated/gated (p < 0.001), and change in safe space (p = 0.006). The significant factors in the model based on single-dog households were vocalisation (p = 0.009), destruction of personal items (p = 0.007), change in time alone (p = 0.041), change in safe space provision (p = 0.049), and age category (p = 0.016).[...]\n",
      "Discussion Pre-COVID, approximately 20% of dogs in our sample showed signs of separationrelated vocalisation at least quite frequently when left alone for more than an hour and 15% of dogs showed running at windows, but only about 5% of dogs showed some form of destructiveness or elimination in these circumstances. COVID lockdowns generally increased the prevalence of dogs presenting separation-related problem behaviours (Table 5) and this increase was generally more often significant in dogs with pre-existing problem behaviours, though some dogs did show a significant decrease in destructive behaviours compared to baseline.[...]\n",
      "In general, dogs with pre-existing signs of separation-related problems were more likely to express behavioural issues and to have more issues than dogs without pre-existing problems (Table 4). In this regard, pre-existing vocalisation seemed to be particularly important as it was associated with all four of the behaviours associated with separation (leaving a room) during lockdown as well as shadowing the owner around the home and pressing body against family members for the all-dogs sample.[...]\n",
      "Dogs appeared more likely to vocalise and be destructive if left for between 3.5 and 7 h and to continue to be destructive if left for more than 7 h. This is consistent with ethological work showing a shift in behavioural tendencies associated with increased distress over time [25,26] and recent epidemiological Vet. Sci.2023, 10, 195 19 of 24 work which found four general strategies pursued by dogs with these problems which appear to be largely associated with frustration [20].[...]\n",
      "Different signs of separationrelated problems predispose dogs to the development of different potential issues when the owner is at home, and so it is important to understand the specific functional role of the individual signs. Separation-related vocalisation, chewing to escape confinement, and self-injury seem to particularly increase the risk of other signs of distress related to owner activity that might lead them to be out of the sight of the dog, such as barking when left alone, seeking attention from the owner by pressing their body against them or shadowing them, and stretching or chewing on themselves.[...]\n",
      "\n",
      "**Paper: Separation-related behavior of dogs shows association with their reactions to everyday situations that may elicit frustration or fear**\n",
      "Dogs can react to the absence of their owner due to different inner states such as fear, panic or frustration. We hypothesized that dogs that are prone to frustration or fearfulness in other contexts would show a different behavioral response to separation from the owner.[...]\n",
      "According to this, separation triggers frustration that on one hand elevates arousal, resulting in excessive barking and increased explorative behaviors, which in turn may become disorganized, resulting in the destruction of objects25. Meanwhile, frustration and the individual features of the dog such as prior experiences, trigger fear that causes other signs of separation stress such as salivation, whining or escape attempts.[...]\n",
      "unpredictable responses) during his/her interactions with the dog could cause a reduced frustration threshold in the dog as we found that in a separation test, dogs that barked frequently but did not whine, had the most lenient owners12. In another study we found that cooperative breeds, which work in close visual contact with their handler28, barked more frequently during separation than the independently working dog breeds29.[...]\n",
      "This highlights the possibility that although dogs may experience a dynamic change in their inner state during a longer period of separation, their individual propensity for an almost immediate fear- or frustration-driven reaction can result in very different reactions to even a short interval of isolation. As we expected, all but one of the factors that emerged from the questionnaire were somehow associated with vocalizations.[...]\n",
      "It was found that the particular type of barks emitted in isolation ('left alone barks') is especially easy to recognize and it is mostly characterized by human listeners as being 'desperate' and 'fearful'44. Based on these findings, both vocalization types have a different role during interspecific communication between dogs and humans, thus during separation they are probably emitted with an adaptive outcome by potentially changing the owner's behavior.[...]\n",
      "Barking is a long-range vocalization type, thus in this case its function might be to capture the attention of the owner and it is provoked by the unpleasant frustrating situation39. The whining of dogs (being a short-range vocalization) might rather elicit caring behavior from the receivers once they reappear at the scene41.[...]\n",
      "Behavior label Definition Behavior category Variable type Stand The dog is on all four feet, not moving Position Duration Sit The dog's haunches are on the ground, but the elbows are not Duration Lay down The dog's elbows and sternum or side touch the ground Duration Move The dog is moving, walking, or running, 2-3 paws are on the ground the whole time Duration Chair distance The dog is near to the chair, within one body length Proximity/distance Duration Door distance The dog is near to the door, within one body length Duration Rearing up against the door/wall The dog stands on his/her back feet and puts the forelegs on the doors or the walls Rearing Duration, Latency Scratching The dog scratches the doors or the walls, with his/her forelegs, or tries to open the door by scratching the handle Scratching Duration, Latency Orientation towards the door The dog's head is pointing towards the door Orientation Duration Orientation towards the chair The dog's head is pointing towards the chair Duration Exploration in general Activity directed toward physical aspects of the environment, including sniffing, close visual inspection, distal visual inspection, and gentle oral examination such as licking Exploration Duration Chair exploration Activity directed towards the chair, including sniffing, close visual inspection, distal visual inspection and gentle oral examination such as licking Duration Door exploration Activity directed towards the door, including sniffing, close visual inspection, distal visual inspection, and gentle oral examination such as licking Duration Tail-wagging The dog is moving its tail constantly [not just because of the dogs' movement (walking or running)] Tail-wagging Duration Barking/yelping A loud, short, wide pitch range sound with inverted U shaped pitch contour Vocalization Duration, Latency Other vocalization Other types of vocalizations that are not in the other categories (growling, howling, moaning, coughing, sneezing etc.) Duration, Latency Whining High-pitched, relatively tonal, short and cyclic or elongated vocalizations.[...]\n",
      "\n",
      "**Paper: Developing Diagnostic Frameworks in Veterinary Behavioral Medicine: Disambiguating Separation Related Problems in Dogs**\n",
      "Dogs should currently presen t with at least one of the following behaviors when separated fro m their owner or left alone: depression/sadness, destructive ness, vocalization (whining, barking, or howling), or house soili ng in order to capture a broad definition of separation related proble ms for at least a month. In order to minimize the risk of bias from recall, owners were asked not to complete the survey if the dog had previously shown these signs but no longer did so, or if there had been a significant change in the household in the last month (e.g., family member left home, moved house) in order to eliminate transient problems.[...]\n",
      "In total 116 breeds were represented in addition to the mixed breeds or unknown breeds which represented most subjects (Table 1). Table 2 shows the frequency of each behavior (destructiveness, vocalization (whining, barking, or howling), house soiling and depression/sadness) when separated from their owner or left alone of the 762 dogs behaviors.[...]\n",
      "\n",
      "**Paper: Where Do We Stand in the Domestic Dog (Canis familiaris) Positive-Emotion Assessment: A State-of-the-Art Review and Future Directions**\n",
      "Should I whine or should I bark? Qualitative and quantitative differences between the vocalizations of dogs with and without separation-related symptoms.[...]\n",
      "\n",
      "**Paper: Domestication constrains the ability of dogs to convey emotions via facial expressions in comparison to their wolf ancestors**\n",
      "Our analysis of vocalisations found that dogs vocalise more often than wolves when socially interacting and reacting to 'emotive' stimuli, suggesting that dogs with limiting facial morphologies may compensate by using more vocalisations to convey their affective states. Certainly, domestic dogs are known to be very vocal in comparison to wolves and will bark for a range of reasons, such as play, defence, threat, pain and loneliness83,84.[...]\n",
      "\n",
      "**Paper: Influence of Owners’ Attachment Style and Personality on Their Dogs’ (Canis familiaris) Separation-Related Disorder**\n",
      "Owners of dogs with SRD complain most frequently about destructive behaviour displayed at home, excessive vocalization (often noticed by neighbours), or inappropriate elimination (urination/defecation, e.g. [20]).[...]\n",
      "\n",
      "**Paper: Stress-Related Behaviors in Companion Dogs Exposed to Common Household Noises, and Owners' Interpretations of Their Dogs' Behaviors**\n",
      "Stress-Related Behaviors in Companion Dogs Exposed to Common Household Noises, and Owners' Interpretations of Their Dogs' Behaviors[...]\n",
      "\n",
      "**Paper: Communication in Dogs**\n",
      "Contrary to previous beliefs, which claimed that barks are a byproduct of domestication lacking any functional value, recent studies demonstrated the context-related acoustical features of barks [60,66,67], suggesting that they are means of communication in dogs. Barks are short, explosive, and repetitive signals, with a highly variable acoustic structure (dominant frequency range between 160 and 2630 Hz), differing between breeds and even between individuals [60,66].[...]\n",
      "Dog breeds show a different use of barks in their vocal communication. Wolf-related breeds, for example, Shar-pei, Chow-Chow or Basenji, have a very rare propensity to bark, whereas other breeds present a specific type of barking, such as hunting dogs [59].[...]\n",
      "Barks carry various information about the signaler's physical characteristics, familiarity, and inner state [62,67,68], allowing dogs to differentiate not only between barks produced by different individuals in the same context [68], but also between the different contexts in which they are produced [67]. Recent studies report, indeed, that the barks acoustic features vary predictably according to the context; dogs emit longer and lower frequency barks when a stranger approaches them, while high pitched barks are mainly produced in isolation situations [63,66].[...]\n",
      "It has recently been found that dogs' growls have a context-dependent acoustics structure; in particular, its temporal features, fundamental frequency, and formant dispersions differ between play and aggressive growls, produced to threaten a stranger or to guard a bone [62,64]. In spite of the specific acoustic characteristics of growls produced during play with humans (short and high-pitched), these vocalizations, in particular, all \"play vocalizations\", which also include barks and huffing [8], are less distinguishable for dogs compared with those recorded in disturbing and isolation situations [ 56].[...]\n",
      "\n",
      "**Paper: Dog–Owner Relationship, Owner Interpretations and Dog Personality Are Connected with the Emotional Reactivity of Dogs**\n",
      "Self-grooming 2 Duration of dog licking/biting its fur or skin Scratching 2 Duration of dog moving one hind paw rapidly back and forth against the body Tail wagging Duration of dog is wagging its tail, tail can be in any position Vocalization Duration of dog is vocalizing by barking, growling, whining or howling Panting Duration of dog is panting: mouth open, breathing with short, quick breaths. Yawning Duration of dog is yawning: prolonged slow open the mouth, opening it exaggeratedly.[...]\n",
      "\n",
      "## Response Guidelines\n",
      "\n",
      "### Structure\n",
      "1. **Direct Answer**: Start with a clear, direct response to their question\n",
      "2. **Research Evidence**: Support your answer with findings from the papers\n",
      "3. **Practical Advice**: Provide actionable steps they can take\n",
      "4. **Important Considerations**: Include any caveats or when to seek professional help\n",
      "\n",
      "### Tone & Style\n",
      "- Be empathetic and understanding (they care about their dog!)\n",
      "- Use accessible language (avoid excessive jargon)\n",
      "- Be confident but acknowledge limitations\n",
      "- Include specific research findings when relevant\n",
      "\n",
      "### Content Requirements\n",
      "- Answer the original question directly\n",
      "- Reference specific studies when making claims\n",
      "- Provide practical, actionable advice\n",
      "- Mention when professional help might be needed\n",
      "- Be honest about research limitations\n",
      "\n",
      "## Important Notes\n",
      "- Only make claims supported by the provided research\n",
      "- If studies contradict each other, acknowledge this\n",
      "- Don't diagnose medical conditions\n",
      "- Suggest veterinary consultation for health concerns\n",
      "\n",
      "Generate your expert response now:\n"
     ]
    }
   ],
   "source": [
    "doc_context = rag.answer_generator._prepare_document_context(retrieved_documents)\n",
    "answer_prompt = rag.answer_generator._create_answer_prompt(\n",
    "    user_query, improved_query, doc_context, answers)\n",
    "print(answer_prompt)"
   ]
  }
 ],
 "metadata": {
  "kernelspec": {
   "display_name": ".venv",
   "language": "python",
   "name": "python3"
  },
  "language_info": {
   "codemirror_mode": {
    "name": "ipython",
    "version": 3
   },
   "file_extension": ".py",
   "mimetype": "text/x-python",
   "name": "python",
   "nbconvert_exporter": "python",
   "pygments_lexer": "ipython3",
   "version": "3.10.0"
  }
 },
 "nbformat": 4,
 "nbformat_minor": 5
}
